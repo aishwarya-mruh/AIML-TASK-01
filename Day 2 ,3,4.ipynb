{
 "cells": [
  {
   "cell_type": "code",
   "execution_count": 5,
   "id": "dec20c67-d1c3-4ea9-b760-b8d6c80adf7d",
   "metadata": {},
   "outputs": [
    {
     "name": "stdout",
     "output_type": "stream",
     "text": [
      "20\n",
      "[20, 30]\n",
      "[20, 30, 40, 50]\n",
      "[10, 20, 30]\n",
      "[10, 20, 30, 40, 50]\n"
     ]
    }
   ],
   "source": [
    "my_list = [10, 20, 30, 40, 50]\n",
    "print(my_list[1])\n",
    "print(my_list[1:3])\n",
    "print(my_list[1:])\n",
    "print(my_list[:3])\n",
    "print(my_list[:])"
   ]
  },
  {
   "cell_type": "code",
   "execution_count": 7,
   "id": "d912046b-f035-4410-aa23-b06a4c54be12",
   "metadata": {},
   "outputs": [
    {
     "name": "stdout",
     "output_type": "stream",
     "text": [
      "50\n",
      "100\n",
      "150\n",
      "200\n",
      "250\n"
     ]
    }
   ],
   "source": [
    "my_list = [10,20,30,40,50]\n",
    "for item in my_list:\n",
    "    print(5*item)"
   ]
  },
  {
   "cell_type": "code",
   "execution_count": 9,
   "id": "e5d1a9cf-729f-44a4-8667-1dacfc4d6367",
   "metadata": {},
   "outputs": [
    {
     "name": "stdout",
     "output_type": "stream",
     "text": [
      "30\n",
      "60\n",
      "90\n",
      "120\n",
      "150\n"
     ]
    }
   ],
   "source": [
    "for x in range (len(my_list)):\n",
    "    print(3* my_list[x])"
   ]
  },
  {
   "cell_type": "code",
   "execution_count": 13,
   "id": "7b1dc27e-af7c-4b9c-a72b-44466b29b87c",
   "metadata": {},
   "outputs": [
    {
     "name": "stdout",
     "output_type": "stream",
     "text": [
      "[2, 3, 4, 4, 9, 6]\n"
     ]
    }
   ],
   "source": [
    "#duplicates can be possible in list\n",
    "duplicate_values = [2,3,4,4,9,6]\n",
    "print(duplicate_values)"
   ]
  },
  {
   "cell_type": "code",
   "execution_count": 15,
   "id": "d2b7a0da-f3ca-4bcc-a691-561db48cf9c8",
   "metadata": {},
   "outputs": [
    {
     "name": "stdout",
     "output_type": "stream",
     "text": [
      "[['apple', 10], ['banana', 24], ['cherry', 5]]\n"
     ]
    }
   ],
   "source": [
    "#Intial list of orders: [item_name,quantity]\n",
    "orders = [[\"apple\", 10],[\"banana\", 24],[\"cherry\", 5]]\n",
    "print(orders)"
   ]
  },
  {
   "cell_type": "code",
   "execution_count": 17,
   "id": "2d3bd471-c51e-4435-9364-3fc950e48a2f",
   "metadata": {},
   "outputs": [
    {
     "name": "stdout",
     "output_type": "stream",
     "text": [
      "[['apple', 10], ['banana', 24], ['cherry', 5], ['date', 12]]\n"
     ]
    }
   ],
   "source": [
    "#add a new order with append()\n",
    "new_order1 = [\"date\", 12]\n",
    "orders.append(new_order1)\n",
    "print(orders)"
   ]
  },
  {
   "cell_type": "code",
   "execution_count": 21,
   "id": "f3ba6b17-0918-4488-880f-b64a0dd2a05b",
   "metadata": {},
   "outputs": [
    {
     "name": "stdout",
     "output_type": "stream",
     "text": [
      "[['apple', 10], ['banana', 24], ['cherry', 5], ['date', 12], 'date', 12, ['grape', 9], ['apple', 20]]\n"
     ]
    }
   ],
   "source": [
    "#add multiple orders at a time\n",
    "new_orders = [[\"grape\",9],[\"apple\", 20]]\n",
    "orders.extend(new_orders)\n",
    "print(orders)"
   ]
  },
  {
   "cell_type": "code",
   "execution_count": 25,
   "id": "e8dea896-5f21-426f-b18e-c6dfbd427f0c",
   "metadata": {},
   "outputs": [
    {
     "data": {
      "text/plain": [
       "[['apple', 10],\n",
       " ['banana', 24],\n",
       " ['cherry', 5],\n",
       " ['dragon', 10],\n",
       " ['date', 12],\n",
       " 'date',\n",
       " 12,\n",
       " ['grape', 9],\n",
       " ['apple', 20]]"
      ]
     },
     "execution_count": 25,
     "metadata": {},
     "output_type": "execute_result"
    }
   ],
   "source": [
    "#add (insert) an order at an index position 3\n",
    "new_order2 = [\"dragon\", 10]\n",
    "orders.insert(3,new_order2)\n",
    "orders"
   ]
  },
  {
   "cell_type": "code",
   "execution_count": 1,
   "id": "3848da90-d42c-49eb-802e-7f68d09a431d",
   "metadata": {},
   "outputs": [
    {
     "name": "stdout",
     "output_type": "stream",
     "text": [
      "[[1, 2], [2, 3]]\n"
     ]
    }
   ],
   "source": [
    "#lists can contain nested lists nested_lists \n",
    "nested_list=[[1,2],[2,3]]\n",
    "print(nested_list)"
   ]
  },
  {
   "cell_type": "code",
   "execution_count": 7,
   "id": "ed8f3fd4-79d7-4a82-b46c-4ee56600b6bd",
   "metadata": {},
   "outputs": [
    {
     "name": "stdout",
     "output_type": "stream",
     "text": [
      "[['apple', 10], ['banana', 5], ['cherry', 7], ['dragon', 10], ['grape', 9], ['apple', 20]]\n"
     ]
    }
   ],
   "source": [
    "orders=[['apple',10],['banana',5],['cherry',7],['dragon',10],['grape',9],['apple',20]]\n",
    "print(orders)"
   ]
  },
  {
   "cell_type": "code",
   "execution_count": 9,
   "id": "973881a0-f4d0-4223-b22b-76806c56563e",
   "metadata": {},
   "outputs": [
    {
     "name": "stdout",
     "output_type": "stream",
     "text": [
      "[['apple', 10], ['banana', 5], ['cherry', 10], ['dragon', 10], ['grape', 9], ['apple', 20]]\n"
     ]
    }
   ],
   "source": [
    "#update the quantity of an item (\"cherry\" to 10)\n",
    "for each in orders:\n",
    "    if each[0] == \"cherry\":\n",
    "        each[1] = 10\n",
    "        print(orders)"
   ]
  },
  {
   "cell_type": "code",
   "execution_count": 16,
   "id": "e8694265-1105-4e1d-989f-61bbb96db0aa",
   "metadata": {},
   "outputs": [
    {
     "name": "stdout",
     "output_type": "stream",
     "text": [
      "[10]\n",
      "10\n",
      "[10, 20]\n",
      "30\n"
     ]
    }
   ],
   "source": [
    "#to sum the no of apples in the gien list\n",
    "apple_orders=[]\n",
    "for each in orders:\n",
    "    if each[0] =='apple':\n",
    "        apple_orders.append(each[1])\n",
    "        print(apple_orders)\n",
    "        print(sum(apple_orders))"
   ]
  },
  {
   "cell_type": "code",
   "execution_count": 18,
   "id": "1fd4b740-2f24-4366-a70a-48050aea112b",
   "metadata": {},
   "outputs": [
    {
     "name": "stdout",
     "output_type": "stream",
     "text": [
      "(3, 5, 9, 10)\n",
      "(10, 20, 30, 40)\n",
      "(2, 24, 9, 6)\n"
     ]
    }
   ],
   "source": [
    "#creating tuples \n",
    "Tup1=(3,5,9,10)\n",
    "Tup2=10,20,30,40\n",
    "Tup3=tuple([2,24,9,6])\n",
    "print(Tup1)\n",
    "print(Tup2)\n",
    "print(Tup3)"
   ]
  },
  {
   "cell_type": "code",
   "execution_count": 20,
   "id": "96d0a42b-a5bd-4eaa-96db-3ee450506f4c",
   "metadata": {},
   "outputs": [
    {
     "name": "stdout",
     "output_type": "stream",
     "text": [
      "(5,)\n"
     ]
    }
   ],
   "source": [
    "#slicing the tuple\n",
    "print(Tup1[1:2])"
   ]
  },
  {
   "cell_type": "code",
   "execution_count": 22,
   "id": "d75b700e-0936-4b87-9f22-5ef28f75d0b9",
   "metadata": {},
   "outputs": [
    {
     "name": "stdout",
     "output_type": "stream",
     "text": [
      "([3, 4, 5], (1, 3, 6), 'Hello', 10.5)\n"
     ]
    }
   ],
   "source": [
    "Tup4=([3,4,5],(1,3,6),\"Hello\",10.5)\n",
    "print(Tup4)"
   ]
  },
  {
   "cell_type": "code",
   "execution_count": 24,
   "id": "ae1a2cbd-ff0b-47b9-bb63-d4624b53e27e",
   "metadata": {},
   "outputs": [
    {
     "name": "stdout",
     "output_type": "stream",
     "text": [
      "lcome t\n"
     ]
    }
   ],
   "source": [
    "Tup5='Welcome to hello world'\n",
    "print(Tup5[2:9])"
   ]
  },
  {
   "cell_type": "code",
   "execution_count": 26,
   "id": "4c57c12e-8729-403d-a894-538d78810411",
   "metadata": {},
   "outputs": [
    {
     "name": "stdout",
     "output_type": "stream",
     "text": [
      "([3, 4, 10], (1, 3, 6), 'Hello', 10.5)\n"
     ]
    }
   ],
   "source": [
    "#any list element can be changes in tuple\n",
    "Tup4[0][2]=10\n",
    "print(Tup4)"
   ]
  },
  {
   "cell_type": "code",
   "execution_count": 28,
   "id": "b07069f6-ee7a-4be7-ad1e-391918bc2f41",
   "metadata": {},
   "outputs": [
    {
     "ename": "TypeError",
     "evalue": "'tuple' object does not support item assignment",
     "output_type": "error",
     "traceback": [
      "\u001b[1;31m---------------------------------------------------------------------------\u001b[0m",
      "\u001b[1;31mTypeError\u001b[0m                                 Traceback (most recent call last)",
      "Cell \u001b[1;32mIn[28], line 1\u001b[0m\n\u001b[1;32m----> 1\u001b[0m Tup4[\u001b[38;5;241m1\u001b[39m] [\u001b[38;5;241m1\u001b[39m] \u001b[38;5;241m=\u001b[39m \u001b[38;5;241m100\u001b[39m\n\u001b[0;32m      2\u001b[0m tup4\n",
      "\u001b[1;31mTypeError\u001b[0m: 'tuple' object does not support item assignment"
     ]
    }
   ],
   "source": [
    "Tup4[1] [1] = 100\n",
    "tup4"
   ]
  },
  {
   "cell_type": "code",
   "execution_count": 30,
   "id": "761b1b50-ee94-422c-92a2-fb2b17cbd625",
   "metadata": {},
   "outputs": [
    {
     "data": {
      "text/plain": [
       "2"
      ]
     },
     "execution_count": 30,
     "metadata": {},
     "output_type": "execute_result"
    }
   ],
   "source": [
    "#there are 2 methods in tuple they are index and count\n",
    "#use index() method to find the index value\n",
    "Tup4.index('Hello')"
   ]
  },
  {
   "cell_type": "code",
   "execution_count": 32,
   "id": "7853dba6-cfc0-4c00-aabb-7972c85bbd5a",
   "metadata": {},
   "outputs": [
    {
     "data": {
      "text/plain": [
       "4"
      ]
     },
     "execution_count": 32,
     "metadata": {},
     "output_type": "execute_result"
    }
   ],
   "source": [
    "#use coun() method  of tuple count an\n",
    "tup5 = (10,20,1,10,10,30,10)\n",
    "tup5.count(10)"
   ]
  },
  {
   "cell_type": "code",
   "execution_count": 1,
   "id": "0d56bf8a-3f9a-490b-893f-9aea08735627",
   "metadata": {},
   "outputs": [
    {
     "name": "stdout",
     "output_type": "stream",
     "text": [
      "{'x': 1, 'y': 2, 'z': 3}\n"
     ]
    }
   ],
   "source": [
    "d3 = dict ([(\"x\", 1), (\"y\", 2),(\"z\", 3)])\n",
    "print(d3)"
   ]
  },
  {
   "cell_type": "code",
   "execution_count": 7,
   "id": "9d038383-9a7f-4073-9c7f-a4c026f4dedf",
   "metadata": {},
   "outputs": [
    {
     "data": {
      "text/plain": [
       "{'A': None, 'B': None, 'C': None, 'D': None}"
      ]
     },
     "execution_count": 7,
     "metadata": {},
     "output_type": "execute_result"
    }
   ],
   "source": [
    "list1 = [\"A\",\"B\",\"C\",\"D\"]\n",
    "my_dict = dict.fromkeys(list1)\n",
    "my_dict"
   ]
  },
  {
   "cell_type": "code",
   "execution_count": 9,
   "id": "600d6bad-83fa-4426-9b56-864aeb616cd9",
   "metadata": {},
   "outputs": [
    {
     "data": {
      "text/plain": [
       "{'A': 10, 'B': 20, 'C': None, 'D': None}"
      ]
     },
     "execution_count": 9,
     "metadata": {},
     "output_type": "execute_result"
    }
   ],
   "source": [
    "my_dict.update({\"A\":10,\"B\":20})\n",
    "my_dict"
   ]
  },
  {
   "cell_type": "code",
   "execution_count": 11,
   "id": "58b85e7d-b0f6-4ed4-8640-0f631d122cfe",
   "metadata": {},
   "outputs": [
    {
     "data": {
      "text/plain": [
       "{'A': 10, 'B': 20, 'C': None, 'D': None}"
      ]
     },
     "execution_count": 11,
     "metadata": {},
     "output_type": "execute_result"
    }
   ],
   "source": [
    "my_dict.update({\"A\":10,\"B\":20})\n",
    "my_dict"
   ]
  },
  {
   "cell_type": "code",
   "execution_count": null,
   "id": "1801de19-7119-430a-ba84-a43b437d7982",
   "metadata": {},
   "outputs": [],
   "source": []
  }
 ],
 "metadata": {
  "kernelspec": {
   "display_name": "Python [conda env:base] *",
   "language": "python",
   "name": "conda-base-py"
  },
  "language_info": {
   "codemirror_mode": {
    "name": "ipython",
    "version": 3
   },
   "file_extension": ".py",
   "mimetype": "text/x-python",
   "name": "python",
   "nbconvert_exporter": "python",
   "pygments_lexer": "ipython3",
   "version": "3.12.7"
  }
 },
 "nbformat": 4,
 "nbformat_minor": 5
}
